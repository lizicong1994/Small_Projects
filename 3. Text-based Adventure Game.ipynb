{
 "cells": [
  {
   "cell_type": "markdown",
   "metadata": {},
   "source": [
    "3. Text-based Adventure Game\n",
    "\n",
    "This is a basic version of the Adventure game. It is completely text-based. In this version of the game, users can move about through different rooms within a single setting, and based on the user input, it will provide descriptions for each room. This is one of the interesting python projects. \n",
    "Movement direction is crucial here – you must create walls and set the directions in which the users can move through the rooms, set movement restrictions, and also include a tracker that can track how far a user has walked or moved in the game. Mentioning Python projects can help your resume look much more interesting than others.\n"
   ]
  },
  {
   "cell_type": "code",
   "execution_count": 1,
   "metadata": {},
   "outputs": [],
   "source": [
    "import random"
   ]
  },
  {
   "cell_type": "code",
   "execution_count": 2,
   "metadata": {},
   "outputs": [],
   "source": [
    "#  $$$$$$$$$$$$$$$$$$$$$$$$$$$$$\n",
    "#  $                           %\n",
    "#  $                           $\n",
    "#  $     $$$$$$$   $$$$$$$     $\n",
    "#  $           $   $           $\n",
    "#  $         D $   $ G         $\n",
    "#  $$$$$$$$$$$$$   $$$$$$$$$$$$$\n",
    "#                Y"
   ]
  },
  {
   "cell_type": "code",
   "execution_count": 3,
   "metadata": {},
   "outputs": [],
   "source": [
    "class Player:\n",
    "    def __init__(self):\n",
    "        self.hp = 10\n",
    "        self.dmg = 3\n",
    "        self.df = 0\n",
    "          "
   ]
  },
  {
   "cell_type": "code",
   "execution_count": 4,
   "metadata": {},
   "outputs": [],
   "source": [
    "class Monster:\n",
    "    def __init__(self):\n",
    "        self.hp = 20\n",
    "        self.dmg = 5\n",
    "        "
   ]
  },
  {
   "cell_type": "code",
   "execution_count": 5,
   "metadata": {},
   "outputs": [],
   "source": [
    "class Sword:\n",
    "    def __init__(self):\n",
    "        self.dmg = 5"
   ]
  },
  {
   "cell_type": "code",
   "execution_count": 6,
   "metadata": {},
   "outputs": [],
   "source": [
    "class Bread:\n",
    "    def __init__(self):\n",
    "        self.hp = 5\n",
    "        "
   ]
  },
  {
   "cell_type": "code",
   "execution_count": 7,
   "metadata": {},
   "outputs": [
    {
     "name": "stdout",
     "output_type": "stream",
     "text": [
      "10\n"
     ]
    }
   ],
   "source": [
    "player = Player()\n",
    "\n",
    "print(player.hp)"
   ]
  },
  {
   "cell_type": "code",
   "execution_count": 10,
   "metadata": {},
   "outputs": [],
   "source": [
    "def checkans(ans):\n",
    "#     ans = ans.lower()\n",
    "    if ans != \"y\" and ans != \"n\":\n",
    "        print(\"Please enter a valid action\")\n",
    "        return False\n",
    "    return True"
   ]
  },
  {
   "cell_type": "code",
   "execution_count": 16,
   "metadata": {},
   "outputs": [
    {
     "name": "stdout",
     "output_type": "stream",
     "text": [
      "The adventure Game start!\n",
      "Your hp is 10\n",
      "\n",
      "Would you like to continue onward? (Y/N)y\n",
      "\n",
      "You see the monster! Do you want to escape? (Y/N)n\n",
      "You are fighting with the monster!\n",
      "5\n",
      "\n",
      "Would you like to continue onward? (Y/N)y\n",
      "\n",
      "You see the monster! Do you want to escape? (Y/N)n\n",
      "You are fighting with the monster!\n",
      "0\n"
     ]
    }
   ],
   "source": [
    "print(\"The adventure Game start!\")\n",
    "player = Player()\n",
    "print(\"Your hp is \" + str(player.hp))\n",
    "while player.hp > 0:\n",
    "    ans = input(\"\\nWould you like to continue onward? (Y/N)\").lower()\n",
    "    if ans =='y':\n",
    "        number = random.randint(1,3)\n",
    "        if number == 1:\n",
    "            ans1 = input(\"\\nYou see the monster! Do you want to escape? (Y/N)\").lower()\n",
    "#             if checkans(ans1):\n",
    "            if ans1 == \"n\":\n",
    "                print(\"You are fighting with the monster!\")\n",
    "                monster = Monster()\n",
    "                player.hp = player.hp -  monster.dmg\n",
    "                print(\"Your hp is \" + str(player.hp))\n",
    "            else: print(\"Your run away! \\n\" + \"Your hp is \" + str(player.hp))\n",
    "                \n",
    "                \n",
    "        \n",
    "        "
   ]
  },
  {
   "cell_type": "code",
   "execution_count": null,
   "metadata": {},
   "outputs": [],
   "source": []
  },
  {
   "cell_type": "code",
   "execution_count": null,
   "metadata": {},
   "outputs": [],
   "source": []
  }
 ],
 "metadata": {
  "kernelspec": {
   "display_name": "Python 3",
   "language": "python",
   "name": "python3"
  },
  "language_info": {
   "codemirror_mode": {
    "name": "ipython",
    "version": 3
   },
   "file_extension": ".py",
   "mimetype": "text/x-python",
   "name": "python",
   "nbconvert_exporter": "python",
   "pygments_lexer": "ipython3",
   "version": "3.8.3"
  }
 },
 "nbformat": 4,
 "nbformat_minor": 4
}
