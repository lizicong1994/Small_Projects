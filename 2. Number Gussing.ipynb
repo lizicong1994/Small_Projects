{
 "cells": [
  {
   "cell_type": "markdown",
   "metadata": {},
   "source": [
    "This is one of the simple python projects yet an exciting one. You can even call it a mini-game. Make a program in which the computer randomly chooses a number between 1 to 10, 1 to 100, or any range. Then give users a hint to guess the number. Every time the user guesses wrong, he gets another clue, and his score gets reduced. The clue can be multiples, divisible, greater or smaller, or a combination of all."
   ]
  },
  {
   "cell_type": "code",
   "execution_count": 38,
   "metadata": {},
   "outputs": [],
   "source": [
    "import random"
   ]
  },
  {
   "cell_type": "code",
   "execution_count": 39,
   "metadata": {},
   "outputs": [],
   "source": [
    "def play():\n",
    "    number = random.randint(0,100)\n",
    "    guess = 101\n",
    "    times = 1\n",
    "    while guess != number:\n",
    "        guess = int(input(\"Guess a number from 0 to 100: \"))\n",
    "        if guess > number:\n",
    "            print(\"Guess a smaller number next time!\")\n",
    "        elif guess < number:\n",
    "            print(\"Guess a larger number next time!\")\n",
    "        else:\n",
    "            print(\"Correct! You use \"+str(times)+\" times get the correct answer!\")\n",
    "        times = times + 1\n"
   ]
  },
  {
   "cell_type": "code",
   "execution_count": 40,
   "metadata": {},
   "outputs": [
    {
     "name": "stdout",
     "output_type": "stream",
     "text": [
      "Do you want to play a Number Gussing Game? Y/N \n",
      "y\n",
      "Guess a number from 0 to 100: 5\n",
      "Guess a larger number next time!\n",
      "Guess a number from 0 to 100: 7\n",
      "Guess a larger number next time!\n",
      "Guess a number from 0 to 100: 8\n",
      "Guess a larger number next time!\n",
      "Guess a number from 0 to 100: 9\n",
      "Guess a larger number next time!\n",
      "Guess a number from 0 to 100: 10\n",
      "Correct! You use 5 times get the correct answer!\n",
      "Do you want to play again? Y/N \n",
      "n\n"
     ]
    }
   ],
   "source": [
    "player = input(\"Do you want to play a Number Gussing Game? Y/N \\n\")\n",
    "# print(player)\n",
    "while player == \"Y\" or player == \"y\" :\n",
    "    play()\n",
    "    player = input(\"Do you want to play again? Y/N \\n\")"
   ]
  },
  {
   "cell_type": "code",
   "execution_count": null,
   "metadata": {},
   "outputs": [],
   "source": []
  }
 ],
 "metadata": {
  "kernelspec": {
   "display_name": "Python 3",
   "language": "python",
   "name": "python3"
  },
  "language_info": {
   "codemirror_mode": {
    "name": "ipython",
    "version": 3
   },
   "file_extension": ".py",
   "mimetype": "text/x-python",
   "name": "python",
   "nbconvert_exporter": "python",
   "pygments_lexer": "ipython3",
   "version": "3.8.3"
  }
 },
 "nbformat": 4,
 "nbformat_minor": 4
}
