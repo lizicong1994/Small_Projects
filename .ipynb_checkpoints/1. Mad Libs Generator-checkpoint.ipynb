{
 "cells": [
  {
   "cell_type": "markdown",
   "metadata": {
    "slideshow": {
     "slide_type": "-"
    }
   },
   "source": [
    "One of the best ideas to start experimenting you hands-on python projects for students is working on Mad Libs Generator. This is the perfect project for beginners who are just starting out with software development. Primarily focused on strings, variables, and concatenation, this project will teach you how to manipulate user-inputted data. The program design is such that it will ask users to enter a series of inputs that will be considered as a Mad Lib. Mab lib is one of the python projects for beginners. \n",
    "\n",
    "The input could be anything, an adjective, a noun, a pronoun, etc. Once all the inputs are entered, the application will take the data and arrange the inputs into a story template form. Sound fun, right?"
   ]
  },
  {
   "cell_type": "code",
   "execution_count": 36,
   "metadata": {},
   "outputs": [],
   "source": [
    "################Stories##############\n",
    "\n",
    "def madlib1():\n",
    "\n",
    "    print(\"Story #1 Start!!\")\n",
    "    animals= input('enter a animal name : ')\n",
    "    profession = input('enter a profession name: ')\n",
    "    cloth = input('enter a piece of cloth name: ')\n",
    "    things = input('enter a thing name: ')\n",
    "    name= input('enter a name: ')\n",
    "    place = input('enter a place name: ')\n",
    "    verb = input('enter a verb in ing form: ')\n",
    "    food = input('food name: ')\n",
    "    return('say ' + food + ', the photographer said as the camera flashed! ' + name + ' and I had gone to ' + place +' to get our photos taken today. The first photo we really wanted was a picture of us dressed as ' + animals + ' pretending to be a ' + profession + ' .when we saw the second photo, it was exactly what I wanted. We both looked like ' + things + ' wearing ' + cloth + ' and ' + verb + ' --exactly what I had in mind')\n",
    "\n",
    "\n",
    "\n",
    "def madlib2():\n",
    "   \n",
    "    print(\"Story #2 Start!!\")\n",
    "    adjactive = input('enter adjective : ')\n",
    "    color = input('enter a color name : ')\n",
    "    thing = input('enter a thing name :')\n",
    "    place = input('enter a place name : ')\n",
    "    person= input('enter a person name : ')\n",
    "    adjactive1 = input('enter a adjactive : ')\n",
    "    insect= input('enter a insect name : ')\n",
    "    food = input('enter a food name : ')\n",
    "    verb = input('enter a verb name : ')\n",
    "\n",
    "    return('Last night I dreamed I was a ' +adjactive+ ' butterfly with ' + color+ ' splocthes that looked like '+thing+ ' .I flew to ' + place+ ' with my bestfriend and '+person+ ' who was a '+adjactive1+ ' ' +insect +' .We ate some ' +food+ ' when we got there and then decided to '+verb+ ' and the dream ended when I said-- lets ' +verb+ '.')\n",
    "    \n",
    "\n",
    "\n",
    "def madlib3():\n",
    "    \n",
    "    print(\"Story #3 Start!!\")\n",
    "    person = input('enter person name: ')\n",
    "    color = input('enter color : ')\n",
    "    foods = input('enter food name : ')\n",
    "    adjective = input('enter aa adjective name: ')\n",
    "    thing = input('enter a thing name : ')\n",
    "    place = input('enter place : ')\n",
    "    verb = input('enter verb : ')\n",
    "    adverb = input('enter adverb : ')\n",
    "    food = input('enter food name: ')\n",
    "    things = input('enter a thing name : ')\n",
    "\n",
    "    return('Today we picked apple from '+person+ \"'s Orchard. I had no idea there were so many different varieties of apples. I ate \" +color+ ' apples straight off the tree that tested like '+foods+ '. Then there was a '+adjective+ ' apple that looked like a ' + thing + '.When our bag were full, we went on a free hay ride to '+place+ ' and back. It ended at a hay pile where we got to ' +verb+ ' ' +adverb+ '. I can hardly wait to get home and cook with the apples. We are going to make appple '+food+ ' and '+things+' pies!.')  \n"
   ]
  },
  {
   "cell_type": "code",
   "execution_count": 38,
   "metadata": {},
   "outputs": [
    {
     "name": "stdout",
     "output_type": "stream",
     "text": [
      "Choose a story: #1, #2, #3: 4\n",
      "Wrong!\n"
     ]
    }
   ],
   "source": [
    "story = int(input('Choose a story: #1, #2, #3: '))\n",
    "\n",
    "def switch_stories(story):\n",
    "    #print(\"Story #\"+story+\" Start!!\")\n",
    "    switcher = {\n",
    "        1: madlib1,\n",
    "        2: madlib2,\n",
    "        3: madlib3\n",
    "    }\n",
    "    func = switcher.get(story,lambda:\"Wrong!\")\n",
    "    print (func())\n",
    "#     if story == 1:\n",
    "#         print madlib1()\n",
    "#     elif story == 2:\n",
    "#         print madlib2()\n",
    "#     elif story == 3:\n",
    "#         print madlib3()\n",
    "#     else: print(\"wrong\")\n",
    "\n",
    "switch_stories(story)"
   ]
  }
 ],
 "metadata": {
  "kernelspec": {
   "display_name": "Python 3",
   "language": "python",
   "name": "python3"
  },
  "language_info": {
   "codemirror_mode": {
    "name": "ipython",
    "version": 3
   },
   "file_extension": ".py",
   "mimetype": "text/x-python",
   "name": "python",
   "nbconvert_exporter": "python",
   "pygments_lexer": "ipython3",
   "version": "3.8.3"
  }
 },
 "nbformat": 4,
 "nbformat_minor": 4
}
